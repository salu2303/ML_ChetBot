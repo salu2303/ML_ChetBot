{
  "nbformat": 4,
  "nbformat_minor": 0,
  "metadata": {
    "colab": {
      "name": "Untitled0.ipynb",
      "provenance": [],
      "collapsed_sections": [],
      "authorship_tag": "ABX9TyNSdRSWW1jH0iEhDAmN/tBO",
      "include_colab_link": true
    },
    "kernelspec": {
      "name": "python3",
      "display_name": "Python 3"
    },
    "language_info": {
      "name": "python"
    }
  },
  "cells": [
    {
      "cell_type": "markdown",
      "metadata": {
        "id": "view-in-github",
        "colab_type": "text"
      },
      "source": [
        "<a href=\"https://colab.research.google.com/github/salu2303/ML_ChetBot/blob/main/ChatBot.ipynb\" target=\"_parent\"><img src=\"https://colab.research.google.com/assets/colab-badge.svg\" alt=\"Open In Colab\"/></a>"
      ]
    },
    {
      "cell_type": "code",
      "metadata": {
        "colab": {
          "base_uri": "https://localhost:8080/"
        },
        "id": "H5Mu7JZ9uqpb",
        "outputId": "3eebf488-c30a-405c-a57f-87eab8e834c2"
      },
      "source": [
        "pip install nltk"
      ],
      "execution_count": 1,
      "outputs": [
        {
          "output_type": "stream",
          "name": "stdout",
          "text": [
            "Requirement already satisfied: nltk in /usr/local/lib/python3.7/dist-packages (3.2.5)\n",
            "Requirement already satisfied: six in /usr/local/lib/python3.7/dist-packages (from nltk) (1.15.0)\n"
          ]
        }
      ]
    },
    {
      "cell_type": "code",
      "metadata": {
        "colab": {
          "base_uri": "https://localhost:8080/"
        },
        "id": "IHL79k1gu2e2",
        "outputId": "16ff467f-ac6a-4583-925d-fe346cefc76f"
      },
      "source": [
        "pip install newspaper3k"
      ],
      "execution_count": 2,
      "outputs": [
        {
          "output_type": "stream",
          "name": "stdout",
          "text": [
            "Collecting newspaper3k\n",
            "  Downloading newspaper3k-0.2.8-py3-none-any.whl (211 kB)\n",
            "\u001b[?25l\r\u001b[K     |█▌                              | 10 kB 26.6 MB/s eta 0:00:01\r\u001b[K     |███                             | 20 kB 27.2 MB/s eta 0:00:01\r\u001b[K     |████▋                           | 30 kB 17.3 MB/s eta 0:00:01\r\u001b[K     |██████▏                         | 40 kB 14.9 MB/s eta 0:00:01\r\u001b[K     |███████▊                        | 51 kB 5.6 MB/s eta 0:00:01\r\u001b[K     |█████████▎                      | 61 kB 6.0 MB/s eta 0:00:01\r\u001b[K     |██████████▉                     | 71 kB 5.4 MB/s eta 0:00:01\r\u001b[K     |████████████▍                   | 81 kB 6.1 MB/s eta 0:00:01\r\u001b[K     |██████████████                  | 92 kB 6.0 MB/s eta 0:00:01\r\u001b[K     |███████████████▌                | 102 kB 5.3 MB/s eta 0:00:01\r\u001b[K     |█████████████████               | 112 kB 5.3 MB/s eta 0:00:01\r\u001b[K     |██████████████████▋             | 122 kB 5.3 MB/s eta 0:00:01\r\u001b[K     |████████████████████▏           | 133 kB 5.3 MB/s eta 0:00:01\r\u001b[K     |█████████████████████▊          | 143 kB 5.3 MB/s eta 0:00:01\r\u001b[K     |███████████████████████▎        | 153 kB 5.3 MB/s eta 0:00:01\r\u001b[K     |████████████████████████▉       | 163 kB 5.3 MB/s eta 0:00:01\r\u001b[K     |██████████████████████████▍     | 174 kB 5.3 MB/s eta 0:00:01\r\u001b[K     |████████████████████████████    | 184 kB 5.3 MB/s eta 0:00:01\r\u001b[K     |█████████████████████████████▌  | 194 kB 5.3 MB/s eta 0:00:01\r\u001b[K     |███████████████████████████████ | 204 kB 5.3 MB/s eta 0:00:01\r\u001b[K     |████████████████████████████████| 211 kB 5.3 MB/s \n",
            "\u001b[?25hRequirement already satisfied: lxml>=3.6.0 in /usr/local/lib/python3.7/dist-packages (from newspaper3k) (4.2.6)\n",
            "Requirement already satisfied: requests>=2.10.0 in /usr/local/lib/python3.7/dist-packages (from newspaper3k) (2.23.0)\n",
            "Requirement already satisfied: beautifulsoup4>=4.4.1 in /usr/local/lib/python3.7/dist-packages (from newspaper3k) (4.6.3)\n",
            "Requirement already satisfied: PyYAML>=3.11 in /usr/local/lib/python3.7/dist-packages (from newspaper3k) (3.13)\n",
            "Collecting cssselect>=0.9.2\n",
            "  Downloading cssselect-1.1.0-py2.py3-none-any.whl (16 kB)\n",
            "Collecting tldextract>=2.0.1\n",
            "  Downloading tldextract-3.1.2-py2.py3-none-any.whl (87 kB)\n",
            "\u001b[K     |████████████████████████████████| 87 kB 6.3 MB/s \n",
            "\u001b[?25hCollecting feedfinder2>=0.0.4\n",
            "  Downloading feedfinder2-0.0.4.tar.gz (3.3 kB)\n",
            "Collecting feedparser>=5.2.1\n",
            "  Downloading feedparser-6.0.8-py3-none-any.whl (81 kB)\n",
            "\u001b[K     |████████████████████████████████| 81 kB 9.4 MB/s \n",
            "\u001b[?25hCollecting jieba3k>=0.35.1\n",
            "  Downloading jieba3k-0.35.1.zip (7.4 MB)\n",
            "\u001b[K     |████████████████████████████████| 7.4 MB 19.2 MB/s \n",
            "\u001b[?25hRequirement already satisfied: python-dateutil>=2.5.3 in /usr/local/lib/python3.7/dist-packages (from newspaper3k) (2.8.2)\n",
            "Collecting tinysegmenter==0.3\n",
            "  Downloading tinysegmenter-0.3.tar.gz (16 kB)\n",
            "Requirement already satisfied: nltk>=3.2.1 in /usr/local/lib/python3.7/dist-packages (from newspaper3k) (3.2.5)\n",
            "Requirement already satisfied: Pillow>=3.3.0 in /usr/local/lib/python3.7/dist-packages (from newspaper3k) (7.1.2)\n",
            "Requirement already satisfied: six in /usr/local/lib/python3.7/dist-packages (from feedfinder2>=0.0.4->newspaper3k) (1.15.0)\n",
            "Collecting sgmllib3k\n",
            "  Downloading sgmllib3k-1.0.0.tar.gz (5.8 kB)\n",
            "Requirement already satisfied: urllib3!=1.25.0,!=1.25.1,<1.26,>=1.21.1 in /usr/local/lib/python3.7/dist-packages (from requests>=2.10.0->newspaper3k) (1.24.3)\n",
            "Requirement already satisfied: idna<3,>=2.5 in /usr/local/lib/python3.7/dist-packages (from requests>=2.10.0->newspaper3k) (2.10)\n",
            "Requirement already satisfied: chardet<4,>=3.0.2 in /usr/local/lib/python3.7/dist-packages (from requests>=2.10.0->newspaper3k) (3.0.4)\n",
            "Requirement already satisfied: certifi>=2017.4.17 in /usr/local/lib/python3.7/dist-packages (from requests>=2.10.0->newspaper3k) (2021.5.30)\n",
            "Requirement already satisfied: filelock>=3.0.8 in /usr/local/lib/python3.7/dist-packages (from tldextract>=2.0.1->newspaper3k) (3.0.12)\n",
            "Collecting requests-file>=1.4\n",
            "  Downloading requests_file-1.5.1-py2.py3-none-any.whl (3.7 kB)\n",
            "Building wheels for collected packages: tinysegmenter, feedfinder2, jieba3k, sgmllib3k\n",
            "  Building wheel for tinysegmenter (setup.py) ... \u001b[?25l\u001b[?25hdone\n",
            "  Created wheel for tinysegmenter: filename=tinysegmenter-0.3-py3-none-any.whl size=13552 sha256=2b075eb8f00f1109b8cf2b3f40178d05327e44ab4a229449c66fd2b894a63495\n",
            "  Stored in directory: /root/.cache/pip/wheels/df/67/41/faca10fa501ca010be41b49d40360c2959e1c4f09bcbfa37fa\n",
            "  Building wheel for feedfinder2 (setup.py) ... \u001b[?25l\u001b[?25hdone\n",
            "  Created wheel for feedfinder2: filename=feedfinder2-0.0.4-py3-none-any.whl size=3356 sha256=daf0fa96c99f41e8b9a28608b2e1d8c212892ccc1eca1d34c9c55134c5a9aa71\n",
            "  Stored in directory: /root/.cache/pip/wheels/7f/d4/8f/6e2ca54744c9d7292d88ddb8d42876bcdab5e6d84a21c10346\n",
            "  Building wheel for jieba3k (setup.py) ... \u001b[?25l\u001b[?25hdone\n",
            "  Created wheel for jieba3k: filename=jieba3k-0.35.1-py3-none-any.whl size=7398405 sha256=3c833b5541684b76df81d1b5140b930a957a9284d3378854fd38cd6aafb604f3\n",
            "  Stored in directory: /root/.cache/pip/wheels/4c/91/46/3c208287b726df325a5979574324878b679116e4baae1af3c3\n",
            "  Building wheel for sgmllib3k (setup.py) ... \u001b[?25l\u001b[?25hdone\n",
            "  Created wheel for sgmllib3k: filename=sgmllib3k-1.0.0-py3-none-any.whl size=6065 sha256=33508e3dc4a83205a0ffee75f19eb91b20c239f26f80c0fdbb8f83f2ff012923\n",
            "  Stored in directory: /root/.cache/pip/wheels/73/ad/a4/0dff4a6ef231fc0dfa12ffbac2a36cebfdddfe059f50e019aa\n",
            "Successfully built tinysegmenter feedfinder2 jieba3k sgmllib3k\n",
            "Installing collected packages: sgmllib3k, requests-file, tldextract, tinysegmenter, jieba3k, feedparser, feedfinder2, cssselect, newspaper3k\n",
            "Successfully installed cssselect-1.1.0 feedfinder2-0.0.4 feedparser-6.0.8 jieba3k-0.35.1 newspaper3k-0.2.8 requests-file-1.5.1 sgmllib3k-1.0.0 tinysegmenter-0.3 tldextract-3.1.2\n"
          ]
        }
      ]
    },
    {
      "cell_type": "code",
      "metadata": {
        "id": "LKNLcvsZvBIz"
      },
      "source": [
        "from newspaper import Article\n",
        "import random\n",
        "import string\n",
        "import nltk\n",
        "from sklearn.feature_extraction.text import CountVectorizer\n",
        "from sklearn.metrics.pairwise import cosine_similarity\n",
        "import numpy as np\n",
        "import warnings\n",
        "warnings.filterwarnings('ignore')"
      ],
      "execution_count": 4,
      "outputs": []
    },
    {
      "cell_type": "code",
      "metadata": {
        "colab": {
          "base_uri": "https://localhost:8080/"
        },
        "id": "eQgwzFpqvsb5",
        "outputId": "d2953274-39ad-4396-e8fc-e2ce8a148cfe"
      },
      "source": [
        "nltk.download('punkt',quiet=True)"
      ],
      "execution_count": 5,
      "outputs": [
        {
          "output_type": "execute_result",
          "data": {
            "text/plain": [
              "True"
            ]
          },
          "metadata": {},
          "execution_count": 5
        }
      ]
    },
    {
      "cell_type": "code",
      "metadata": {
        "colab": {
          "base_uri": "https://localhost:8080/"
        },
        "id": "YJ6k4_uDv6ah",
        "outputId": "90a5edf4-ad3b-4203-9fe9-26857b2ca107"
      },
      "source": [
        "article=Article('https://www.mayoclinic.org/diseases-conditions/chronic-kidney-disease/symptoms-causes/syc-20354521')\n",
        "article.download()\n",
        "article.parse()\n",
        "article.nlp()\n",
        "corpus=article.text\n",
        "print(corpus)"
      ],
      "execution_count": 7,
      "outputs": [
        {
          "output_type": "stream",
          "name": "stdout",
          "text": [
            "Overview\n",
            "\n",
            "Chronic kidney disease, also called chronic kidney failure, involves a gradual loss of kidney function. Your kidneys filter wastes and excess fluids from your blood, which are then removed in your urine. Advanced chronic kidney disease can cause dangerous levels of fluid, electrolytes and wastes to build up in your body.\n",
            "\n",
            "In the early stages of chronic kidney disease, you might have few signs or symptoms. You might not realize that you have kidney disease until the condition is advanced.\n",
            "\n",
            "Treatment for chronic kidney disease focuses on slowing the progression of kidney damage, usually by controlling the cause. But, even controlling the cause might not keep kidney damage from progressing. Chronic kidney disease can progress to end-stage kidney failure, which is fatal without artificial filtering (dialysis) or a kidney transplant.\n",
            "\n",
            "How kidneys work\n",
            "\n",
            "Symptoms\n",
            "\n",
            "Signs and symptoms of chronic kidney disease develop over time if kidney damage progresses slowly. Loss of kidney function can cause a buildup of fluid or body waste or electrolyte problems. Depending on how severe it is, loss of kidney function can cause:\n",
            "\n",
            "Nausea\n",
            "\n",
            "Vomiting\n",
            "\n",
            "Loss of appetite\n",
            "\n",
            "Fatigue and weakness\n",
            "\n",
            "Sleep problems\n",
            "\n",
            "Urinating more or less\n",
            "\n",
            "Decreased mental sharpness\n",
            "\n",
            "Muscle cramps\n",
            "\n",
            "Swelling of feet and ankles\n",
            "\n",
            "Dry, itchy skin\n",
            "\n",
            "High blood pressure (hypertension) that's difficult to control\n",
            "\n",
            "Shortness of breath, if fluid builds up in the lungs\n",
            "\n",
            "Chest pain, if fluid builds up around the lining of the heart\n",
            "\n",
            "Signs and symptoms of kidney disease are often nonspecific. This means they can also be caused by other illnesses. Because your kidneys are able to make up for lost function, you might not develop signs and symptoms until irreversible damage has occurred.\n",
            "\n",
            "When to see a doctor\n",
            "\n",
            "Make an appointment with your doctor if you have signs or symptoms of kidney disease. Early detection might help prevent kidney disease from progressing to kidney failure.\n",
            "\n",
            "If you have a medical condition that increases your risk of kidney disease, your doctor may monitor your blood pressure and kidney function with urine and blood tests during office visits. Ask your doctor whether these tests are necessary for you.\n",
            "\n",
            "Causes\n",
            "\n",
            "Normal kidney vs. diseased kidney Open pop-up dialog box Close Normal kidney vs. diseased kidney Normal kidney vs. diseased kidney A normal kidney has about 1 million filtering units. Each unit, called a glomerulus, connects to a tubule, which collects urine. Conditions such as high blood pressure and diabetes take a toll on kidney function by damaging these filtering units and collecting tubules and causing scarring.\n",
            "\n",
            "Polycystic kidney Open pop-up dialog box Close Polycystic kidney Polycystic kidney A healthy kidney (left) eliminates waste from the blood and maintains the body's balance. With polycystic kidney disease (right), fluid-filled sacs called cysts develop in the kidneys, causing them to grow larger and gradually lose their ability to function normally.\n",
            "\n",
            "Chronic kidney disease occurs when a disease or condition impairs kidney function, causing kidney damage to worsen over several months or years.\n",
            "\n",
            "Diseases and conditions that cause chronic kidney disease include:\n",
            "\n",
            "Type 1 or type 2 diabetes\n",
            "\n",
            "High blood pressure\n",
            "\n",
            "Glomerulonephritis (gloe-mer-u-low-nuh-FRY-tis), an inflammation of the kidney's filtering units (glomeruli)\n",
            "\n",
            "Interstitial nephritis (in-tur-STISH-ul nuh-FRY-tis), an inflammation of the kidney's tubules and surrounding structures\n",
            "\n",
            "Polycystic kidney disease or other inherited kidney diseases\n",
            "\n",
            "Prolonged obstruction of the urinary tract, from conditions such as enlarged prostate, kidney stones and some cancers\n",
            "\n",
            "Vesicoureteral (ves-ih-koe-yoo-REE-tur-ul) reflux, a condition that causes urine to back up into your kidneys\n",
            "\n",
            "Recurrent kidney infection, also called pyelonephritis (pie-uh-low-nuh-FRY-tis)\n",
            "\n",
            "Risk factors\n",
            "\n",
            "Factors that can increase your risk of chronic kidney disease include:\n",
            "\n",
            "Diabetes\n",
            "\n",
            "High blood pressure\n",
            "\n",
            "Heart (cardiovascular) disease\n",
            "\n",
            "Smoking\n",
            "\n",
            "Obesity\n",
            "\n",
            "Being Black, Native American or Asian American\n",
            "\n",
            "Family history of kidney disease\n",
            "\n",
            "Abnormal kidney structure\n",
            "\n",
            "Older age\n",
            "\n",
            "Frequent use of medications that can damage the kidneys\n",
            "\n",
            "Complications\n",
            "\n",
            "Chronic kidney disease can affect almost every part of your body. Potential complications include:\n",
            "\n",
            "Fluid retention, which could lead to swelling in your arms and legs, high blood pressure, or fluid in your lungs (pulmonary edema)\n",
            "\n",
            "A sudden rise in potassium levels in your blood (hyperkalemia), which could impair your heart's function and can be life-threatening\n",
            "\n",
            "Anemia\n",
            "\n",
            "Heart disease\n",
            "\n",
            "Weak bones and an increased risk of bone fractures\n",
            "\n",
            "Decreased sex drive, erectile dysfunction or reduced fertility\n",
            "\n",
            "Damage to your central nervous system, which can cause difficulty concentrating, personality changes or seizures\n",
            "\n",
            "Decreased immune response, which makes you more vulnerable to infection\n",
            "\n",
            "Pericarditis, an inflammation of the saclike membrane that envelops your heart (pericardium)\n",
            "\n",
            "Pregnancy complications that carry risks for the mother and the developing fetus\n",
            "\n",
            "Irreversible damage to your kidneys (end-stage kidney disease), eventually requiring either dialysis or a kidney transplant for survival\n",
            "\n",
            "Prevention\n",
            "\n",
            "To reduce your risk of developing kidney disease:\n"
          ]
        }
      ]
    },
    {
      "cell_type": "code",
      "metadata": {
        "id": "_W2Q-EPJwlT2"
      },
      "source": [
        "text=corpus\n",
        "sentence_list=nltk.sent_tokenize(text)"
      ],
      "execution_count": 9,
      "outputs": []
    },
    {
      "cell_type": "code",
      "metadata": {
        "colab": {
          "base_uri": "https://localhost:8080/"
        },
        "id": "JeeiTEDDwvrY",
        "outputId": "6a6d5418-c521-4c0c-ec15-3db6e64d38b8"
      },
      "source": [
        "print(sentence_list)"
      ],
      "execution_count": 10,
      "outputs": [
        {
          "output_type": "stream",
          "name": "stdout",
          "text": [
            "['Overview\\n\\nChronic kidney disease, also called chronic kidney failure, involves a gradual loss of kidney function.', 'Your kidneys filter wastes and excess fluids from your blood, which are then removed in your urine.', 'Advanced chronic kidney disease can cause dangerous levels of fluid, electrolytes and wastes to build up in your body.', 'In the early stages of chronic kidney disease, you might have few signs or symptoms.', 'You might not realize that you have kidney disease until the condition is advanced.', 'Treatment for chronic kidney disease focuses on slowing the progression of kidney damage, usually by controlling the cause.', 'But, even controlling the cause might not keep kidney damage from progressing.', 'Chronic kidney disease can progress to end-stage kidney failure, which is fatal without artificial filtering (dialysis) or a kidney transplant.', 'How kidneys work\\n\\nSymptoms\\n\\nSigns and symptoms of chronic kidney disease develop over time if kidney damage progresses slowly.', 'Loss of kidney function can cause a buildup of fluid or body waste or electrolyte problems.', \"Depending on how severe it is, loss of kidney function can cause:\\n\\nNausea\\n\\nVomiting\\n\\nLoss of appetite\\n\\nFatigue and weakness\\n\\nSleep problems\\n\\nUrinating more or less\\n\\nDecreased mental sharpness\\n\\nMuscle cramps\\n\\nSwelling of feet and ankles\\n\\nDry, itchy skin\\n\\nHigh blood pressure (hypertension) that's difficult to control\\n\\nShortness of breath, if fluid builds up in the lungs\\n\\nChest pain, if fluid builds up around the lining of the heart\\n\\nSigns and symptoms of kidney disease are often nonspecific.\", 'This means they can also be caused by other illnesses.', 'Because your kidneys are able to make up for lost function, you might not develop signs and symptoms until irreversible damage has occurred.', 'When to see a doctor\\n\\nMake an appointment with your doctor if you have signs or symptoms of kidney disease.', 'Early detection might help prevent kidney disease from progressing to kidney failure.', 'If you have a medical condition that increases your risk of kidney disease, your doctor may monitor your blood pressure and kidney function with urine and blood tests during office visits.', 'Ask your doctor whether these tests are necessary for you.', 'Causes\\n\\nNormal kidney vs. diseased kidney Open pop-up dialog box Close Normal kidney vs. diseased kidney Normal kidney vs. diseased kidney A normal kidney has about 1 million filtering units.', 'Each unit, called a glomerulus, connects to a tubule, which collects urine.', 'Conditions such as high blood pressure and diabetes take a toll on kidney function by damaging these filtering units and collecting tubules and causing scarring.', \"Polycystic kidney Open pop-up dialog box Close Polycystic kidney Polycystic kidney A healthy kidney (left) eliminates waste from the blood and maintains the body's balance.\", 'With polycystic kidney disease (right), fluid-filled sacs called cysts develop in the kidneys, causing them to grow larger and gradually lose their ability to function normally.', 'Chronic kidney disease occurs when a disease or condition impairs kidney function, causing kidney damage to worsen over several months or years.', \"Diseases and conditions that cause chronic kidney disease include:\\n\\nType 1 or type 2 diabetes\\n\\nHigh blood pressure\\n\\nGlomerulonephritis (gloe-mer-u-low-nuh-FRY-tis), an inflammation of the kidney's filtering units (glomeruli)\\n\\nInterstitial nephritis (in-tur-STISH-ul nuh-FRY-tis), an inflammation of the kidney's tubules and surrounding structures\\n\\nPolycystic kidney disease or other inherited kidney diseases\\n\\nProlonged obstruction of the urinary tract, from conditions such as enlarged prostate, kidney stones and some cancers\\n\\nVesicoureteral (ves-ih-koe-yoo-REE-tur-ul) reflux, a condition that causes urine to back up into your kidneys\\n\\nRecurrent kidney infection, also called pyelonephritis (pie-uh-low-nuh-FRY-tis)\\n\\nRisk factors\\n\\nFactors that can increase your risk of chronic kidney disease include:\\n\\nDiabetes\\n\\nHigh blood pressure\\n\\nHeart (cardiovascular) disease\\n\\nSmoking\\n\\nObesity\\n\\nBeing Black, Native American or Asian American\\n\\nFamily history of kidney disease\\n\\nAbnormal kidney structure\\n\\nOlder age\\n\\nFrequent use of medications that can damage the kidneys\\n\\nComplications\\n\\nChronic kidney disease can affect almost every part of your body.\", \"Potential complications include:\\n\\nFluid retention, which could lead to swelling in your arms and legs, high blood pressure, or fluid in your lungs (pulmonary edema)\\n\\nA sudden rise in potassium levels in your blood (hyperkalemia), which could impair your heart's function and can be life-threatening\\n\\nAnemia\\n\\nHeart disease\\n\\nWeak bones and an increased risk of bone fractures\\n\\nDecreased sex drive, erectile dysfunction or reduced fertility\\n\\nDamage to your central nervous system, which can cause difficulty concentrating, personality changes or seizures\\n\\nDecreased immune response, which makes you more vulnerable to infection\\n\\nPericarditis, an inflammation of the saclike membrane that envelops your heart (pericardium)\\n\\nPregnancy complications that carry risks for the mother and the developing fetus\\n\\nIrreversible damage to your kidneys (end-stage kidney disease), eventually requiring either dialysis or a kidney transplant for survival\\n\\nPrevention\\n\\nTo reduce your risk of developing kidney disease:\"]\n"
          ]
        }
      ]
    },
    {
      "cell_type": "code",
      "metadata": {
        "id": "sdXTQUDlxBAH"
      },
      "source": [
        "def greeting_response(text):\n",
        "  text=text.lower()\n",
        "  bot_greetings=['hy','how','hello','hola']\n",
        "  user_greetings=['hy','how','hello','hola','hiiii','how are you']\n",
        "\n",
        "  for word in text.split():\n",
        "    if word in user_greetings:\n",
        "      return random.choice(bot_greetings)\n"
      ],
      "execution_count": 60,
      "outputs": []
    },
    {
      "cell_type": "code",
      "metadata": {
        "id": "U5pgCxXEylng"
      },
      "source": [
        "def index_sort(list_var):\n",
        "  length=len(list_var)\n",
        "  list_index=list(range(0,length))\n",
        "  x=list_var\n",
        "  for i in range(length):\n",
        "    for j in range(length):\n",
        "      if x[list_index[i]]>x[list_index[j]]:\n",
        "        temp=list_index[i]\n",
        "        list_index[i]=list_index[j]\n",
        "        list_index[j]=temp\n",
        "  return list_index"
      ],
      "execution_count": 42,
      "outputs": []
    },
    {
      "cell_type": "code",
      "metadata": {
        "id": "qKXSPTIexswH"
      },
      "source": [
        "def bot_response(user_input):\n",
        "  user_input=user_input.lower()\n",
        "  sentence_list.append(user_input)\n",
        "  bot_responce=''\n",
        "  cm=CountVectorizer().fit_transform(sentence_list)\n",
        "  similarity_scores=cosine_similarity(cm[-1],cm)\n",
        "  similarity_scores_list=similarity_scores.flatten()\n",
        "  index=index_sort(similarity_scores_list)\n",
        "  index=index[1:]\n",
        "  response_flag=0\n",
        "  \n",
        "  j=0\n",
        "  for i in range(len(index)):\n",
        "    if similarity_scores_list[index[i]] > 0.0:\n",
        "      bot_responce=bot_responce+' '+sentence_list[index[i]]\n",
        "      response_flag=1\n",
        "      j=j+1\n",
        "    if j > 2:\n",
        "      break\n",
        "\n",
        "  if response_flag==0:\n",
        "    bot_responce=bot_responce+' '+\"I applogize,I dont understand\" \n",
        "  sentence_list.remove(user_input)\n",
        "\n",
        "  return bot_responce\n",
        "\n"
      ],
      "execution_count": 65,
      "outputs": []
    },
    {
      "cell_type": "code",
      "metadata": {
        "colab": {
          "base_uri": "https://localhost:8080/"
        },
        "id": "JHro1aAi2ge4",
        "outputId": "fc633d3c-50ba-4b47-88ee-d7e38d3fcb3b"
      },
      "source": [
        "print('Doc Bot:I am D bot for short period.I will answer your queries.type bye for end of the chat')\n",
        "\n",
        "exit_list=['exit','bye','quit','break']\n",
        "while(True):\n",
        "  user_input=input()\n",
        "  if user_input.lower() in exit_list:\n",
        "    print('D doc Talk with you later!')\n",
        "    break\n",
        "  else:\n",
        "    if greeting_response(user_input)!=None :\n",
        "      print('D Bot: '+greeting_response(user_input))\n",
        "    else:\n",
        "      print('D bot: '+bot_response(user_input))ho"
      ],
      "execution_count": 66,
      "outputs": [
        {
          "output_type": "stream",
          "name": "stdout",
          "text": [
            "Doc Bot:I am D bot for short period.I will answer your queries.type bye for end of the chat\n",
            "hy\n",
            "D Bot: how\n",
            "hola\n",
            "D Bot: hy\n",
            "what is chronic diseases?\n",
            "D bot:  what is chronic diseases? Overview\n",
            "\n",
            "Chronic kidney disease, also called chronic kidney failure, involves a gradual loss of kidney function. Chronic kidney disease can progress to end-stage kidney failure, which is fatal without artificial filtering (dialysis) or a kidney transplant.\n",
            "bye\n",
            "D doc Talk with you later!\n"
          ]
        }
      ]
    }
  ]
}